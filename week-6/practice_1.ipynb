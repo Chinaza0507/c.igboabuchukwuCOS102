{
 "cells": [
  {
   "cell_type": "code",
   "execution_count": null,
   "id": "535253fe-c20c-46e2-ab94-9bdb8e97d28f",
   "metadata": {},
   "outputs": [],
   "source": [
    "import tkinter as tk\n",
    "#Handling button click event\n",
    "def button_click():\n",
    "    #print (\"Button clicked!\")\n",
    "\n",
    "    #show an information message box\n",
    "    msgbox.showinfo(\"Info\",\"Welcomt to COS 102 GUI App!\\n\")\n",
    "\n",
    "    #Ask for user confirmation\n",
    "    result = msgbox.askyesno(\"Confirmation\", \"Do you want to continue?\")\n",
    "\n",
    "#create the main window\n",
    "root = tk.Tk()\n",
    "root.title(\"Home Page\")\n",
    "root.geometry(\"300x100\")\n",
    "\n",
    "#Add a label widget\n",
    "label = tk.Label(root, text =\"hello friend \\n\")\n",
    "label.pack()\n",
    "\n",
    "#add a button widget\n",
    "button = tk.Button(root, text =\"Click me!\" ,command=button_click)\n",
    "button.pack()\n",
    "\n",
    "#styling the button widget\n",
    "button.config(fg=\"red\",bg=\"yellow\")\n",
    "\n",
    "#start the event loop\n",
    "root.mainloop()"
   ]
  },
  {
   "cell_type": "code",
   "execution_count": 34,
   "id": "fe456d50-bb5a-4ae0-be50-e4530f877524",
   "metadata": {},
   "outputs": [
    {
     "ename": "ImportError",
     "evalue": "cannot import name 'ImageTK' from 'PIL' (/opt/anaconda3/lib/python3.12/site-packages/PIL/__init__.py)",
     "output_type": "error",
     "traceback": [
      "\u001b[0;31m---------------------------------------------------------------------------\u001b[0m",
      "\u001b[0;31mImportError\u001b[0m                               Traceback (most recent call last)",
      "Cell \u001b[0;32mIn[34], line 4\u001b[0m\n\u001b[1;32m      2\u001b[0m \u001b[38;5;28;01mimport\u001b[39;00m \u001b[38;5;21;01mtkinter\u001b[39;00m \u001b[38;5;28;01mas\u001b[39;00m \u001b[38;5;21;01mtk\u001b[39;00m\n\u001b[1;32m      3\u001b[0m \u001b[38;5;28;01mfrom\u001b[39;00m \u001b[38;5;21;01mtkinter\u001b[39;00m \u001b[38;5;28;01mimport\u001b[39;00m messagebox\n\u001b[0;32m----> 4\u001b[0m \u001b[38;5;28;01mfrom\u001b[39;00m \u001b[38;5;21;01mPIL\u001b[39;00m \u001b[38;5;28;01mimport\u001b[39;00m Image,ImageTK\n\u001b[1;32m      6\u001b[0m \u001b[38;5;28;01mdef\u001b[39;00m \u001b[38;5;21mwelcomeMessage\u001b[39m(username):\n\u001b[1;32m      7\u001b[0m     \u001b[38;5;66;03m#create a Tkinter window\u001b[39;00m\n\u001b[1;32m      8\u001b[0m     window \u001b[38;5;241m=\u001b[39m tk\u001b[38;5;241m.\u001b[39mToplevel(root)\n",
      "\u001b[0;31mImportError\u001b[0m: cannot import name 'ImageTK' from 'PIL' (/opt/anaconda3/lib/python3.12/site-packages/PIL/__init__.py)"
     ]
    }
   ],
   "source": [
    "#CELL 2\n",
    "import tkinter as tk\n",
    "from tkinter import messagebox\n",
    "from PIL import Image,ImageTK\n",
    "\n",
    "def welcomeMessage(username):\n",
    "    #create a Tkinter window\n",
    "    window = tk.Toplevel(root)\n",
    "    window.title(\"Adin Box\")\n",
    "    window.geometry(\"500x200\")\n",
    "\n",
    "    label_1 = tk.Label(window, text=f\"Welcome {username}\\n\")\n",
    "    label_1.pack()\n",
    "    label_2 = tk.Label(window, text=\"This is python GUI with Tkinter\")\n",
    "    label_2.pack()\n",
    "\n",
    "#Run the Tkinter event loop \n",
    "root.mainloop()\n",
    "\n",
    "def submit():\n",
    "    username = username_entry.get()\n",
    "    password = password_entry.get()\n",
    "\n",
    "   if username == \"Mary\" and password == \"cos102\":\n",
    "       welcomeMessage(username)\n",
    "   else:\n",
    "    messagebox.showeror(\"Login\", \"Invalid username or password\")"
   ]
  },
  {
   "cell_type": "code",
   "execution_count": null,
   "id": "3e2fc7a3-b8e1-4b37-b4db-eb1f53a2dd0c",
   "metadata": {},
   "outputs": [],
   "source": []
  },
  {
   "cell_type": "code",
   "execution_count": null,
   "id": "b18a7cdd-6119-4a1d-b24c-41fd69e86444",
   "metadata": {},
   "outputs": [],
   "source": []
  },
  {
   "cell_type": "code",
   "execution_count": null,
   "id": "9d9cf659-81d8-4fe0-8ccf-9d066e0d6fab",
   "metadata": {},
   "outputs": [],
   "source": []
  }
 ],
 "metadata": {
  "kernelspec": {
   "display_name": "Python [conda env:base] *",
   "language": "python",
   "name": "conda-base-py"
  },
  "language_info": {
   "codemirror_mode": {
    "name": "ipython",
    "version": 3
   },
   "file_extension": ".py",
   "mimetype": "text/x-python",
   "name": "python",
   "nbconvert_exporter": "python",
   "pygments_lexer": "ipython3",
   "version": "3.12.7"
  }
 },
 "nbformat": 4,
 "nbformat_minor": 5
}
