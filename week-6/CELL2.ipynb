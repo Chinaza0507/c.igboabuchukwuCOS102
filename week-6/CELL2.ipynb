{
 "cells": [
  {
   "cell_type": "code",
   "execution_count": 45,
   "id": "6d067b08-9287-477f-9989-6e5acd77f974",
   "metadata": {},
   "outputs": [
    {
     "name": "stderr",
     "output_type": "stream",
     "text": [
      "Exception in Tkinter callback\n",
      "Traceback (most recent call last):\n",
      "  File \"/opt/anaconda3/lib/python3.12/tkinter/__init__.py\", line 1968, in __call__\n",
      "    return self.func(*args)\n",
      "           ^^^^^^^^^^^^^^^^\n",
      "  File \"/var/folders/26/0r935gj54wxc2fbmn1v4syt80000gn/T/ipykernel_20715/3465636363.py\", line 27, in submit\n",
      "    messagebox.showeror(\"Login\", \"Invalid username or password\")\n",
      "    ^^^^^^^^^^^^^^^^^^^\n",
      "AttributeError: module 'tkinter.messagebox' has no attribute 'showeror'. Did you mean: 'showerror'?\n",
      "Exception in Tkinter callback\n",
      "Traceback (most recent call last):\n",
      "  File \"/opt/anaconda3/lib/python3.12/tkinter/__init__.py\", line 1968, in __call__\n",
      "    return self.func(*args)\n",
      "           ^^^^^^^^^^^^^^^^\n",
      "  File \"/var/folders/26/0r935gj54wxc2fbmn1v4syt80000gn/T/ipykernel_20715/3465636363.py\", line 27, in submit\n",
      "    messagebox.showeror(\"Login\", \"Invalid username or password\")\n",
      "    ^^^^^^^^^^^^^^^^^^^\n",
      "AttributeError: module 'tkinter.messagebox' has no attribute 'showeror'. Did you mean: 'showerror'?\n"
     ]
    }
   ],
   "source": [
    "#CELL 2\n",
    "import tkinter as tk\n",
    "from tkinter import messagebox\n",
    "from PIL import Image,ImageTk\n",
    "\n",
    "def welcomeMessage(username):\n",
    "    #create a Tkinter window\n",
    "    window = tk.Toplevel(root)\n",
    "    window.title(\"Admin Box\")\n",
    "    window.geometry(\"500x200\")\n",
    "\n",
    "    label_1 = tk.Label(window, text=f\"Welcome {username}\\n\")\n",
    "    label_1.pack()\n",
    "    label_2 = tk.Label(window, text=\"This is python GUI with Tkinter\")\n",
    "    label_2.pack()\n",
    "\n",
    "    #Run the Tkinter event loop \n",
    "    root.mainloop() \n",
    "\n",
    "def submit():\n",
    "    username = username_entry.get()\n",
    "    password = password_entry.get()\n",
    "\n",
    "    if username == \"Mary\" and password == \"cos102\":\n",
    "        welcomeMessage(username)\n",
    "    else:\n",
    "        messagebox.showeror(\"Login\", \"Invalid username or password\")\n",
    "# Create main window\n",
    "root = tk.Tk()\n",
    "root.title(\"Login Form\")\n",
    "root.geometry(\"500x200\")\n",
    "\n",
    "# Create username label and entry\n",
    "username_label = tk.Label(root, text=\"Username:\")\n",
    "username_label.pack()\n",
    "username_entry = tk.Entry(root)\n",
    "username_entry.pack()\n",
    "\n",
    "# Create password label and entry\n",
    "password_label = tk.Label(root, text=\"Password:\")\n",
    "password_label.pack()\n",
    "password_entry = tk.Entry(root, show=\"*\")\n",
    "password_entry.pack()\n",
    "\n",
    "# Create submit button\n",
    "submit_button = tk.Button(root, text=\"Submit\", command=submit)\n",
    "submit_button.pack()\n",
    "\n",
    "# Run the main event loop\n",
    "root.mainloop()"
   ]
  },
  {
   "cell_type": "code",
   "execution_count": null,
   "id": "63abdb07-6630-45a2-97f7-665afda840bd",
   "metadata": {},
   "outputs": [],
   "source": []
  },
  {
   "cell_type": "code",
   "execution_count": null,
   "id": "68c924de-c2ea-4ce0-9068-d875ad0801c5",
   "metadata": {},
   "outputs": [],
   "source": []
  },
  {
   "cell_type": "code",
   "execution_count": null,
   "id": "3a176ce9-ca2a-4d4f-a8cb-20aef1bb33aa",
   "metadata": {},
   "outputs": [],
   "source": []
  },
  {
   "cell_type": "code",
   "execution_count": null,
   "id": "e443aab2-3574-4cdb-9235-e9b9ae6952f2",
   "metadata": {},
   "outputs": [],
   "source": []
  },
  {
   "cell_type": "code",
   "execution_count": null,
   "id": "1ce9093b-4336-46d0-8e47-5175c1151133",
   "metadata": {},
   "outputs": [],
   "source": []
  },
  {
   "cell_type": "code",
   "execution_count": null,
   "id": "60cd4f69-bfc2-4f4e-a973-dcc12084e2f6",
   "metadata": {},
   "outputs": [],
   "source": []
  },
  {
   "cell_type": "code",
   "execution_count": null,
   "id": "9fb10698-00b6-46a9-93a5-384e39bff851",
   "metadata": {},
   "outputs": [],
   "source": []
  }
 ],
 "metadata": {
  "kernelspec": {
   "display_name": "Python [conda env:base] *",
   "language": "python",
   "name": "conda-base-py"
  },
  "language_info": {
   "codemirror_mode": {
    "name": "ipython",
    "version": 3
   },
   "file_extension": ".py",
   "mimetype": "text/x-python",
   "name": "python",
   "nbconvert_exporter": "python",
   "pygments_lexer": "ipython3",
   "version": "3.12.7"
  }
 },
 "nbformat": 4,
 "nbformat_minor": 5
}
