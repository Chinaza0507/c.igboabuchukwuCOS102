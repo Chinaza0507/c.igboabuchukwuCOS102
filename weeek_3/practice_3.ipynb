{
 "cells": [
  {
   "cell_type": "code",
   "execution_count": 1,
   "id": "0b139c52-bf6c-4ec2-8531-72a309a5a9bc",
   "metadata": {},
   "outputs": [
    {
     "name": "stdout",
     "output_type": "stream",
     "text": [
      "Welcome to the COUPE DE ESCRIVA 2023: FOOTBALL PICKS \n",
      "\n",
      "Madiba Chubby Obiora-Okafor\n",
      "Blue-Jays Christopher Uweh\n",
      "Cirok Alexander\n",
      "TSG Walkers Ikechukwu\n",
      "\n",
      "\n",
      "Madiba Chubby Obiora-Okafor\n",
      "Blue-Jays Oladimeji Abaniwonda/Jeffery Awagu\n",
      "Cirok Timileyin Pearse/Tizuka Jeremy\n",
      "TSG Walkers Ayomide Ojituku\n"
     ]
    }
   ],
   "source": [
    "# COUPE DE ESCRIVA 2023: FOOTBALL PICKS\n",
    "\n",
    "print(\"Welcome to the COUPE DE ESCRIVA 2023: FOOTBALL PICKS \\n\")\n",
    "\n",
    "captain = {'Madiba': 'Chubby Obiora-Okafor', \n",
    "           'Blue-Jays': 'Christopher Uweh', \n",
    "           'Cirok': 'Alexander', \n",
    "           'TSG Walkers': 'Ikechukwu'}\n",
    "\n",
    "goalkeepers = {'Madiba': 'Chubby Obiora-Okafor', \n",
    "               'Blue-Jays': 'Oladimeji Abaniwonda/Jeffery Awagu', \n",
    "               'Cirok': 'Timileyin Pearse/Tizuka Jeremy', \n",
    "               'TSG Walkers': 'Ayomide Ojituku'}\n",
    "\n",
    "for pick in captain:\n",
    "    print(pick, captain[pick])\n",
    "\n",
    "print(\"\\n\")\n",
    "\n",
    "for pick in goalkeepers:\n",
    "    print(pick, goalkeepers[pick])"
   ]
  },
  {
   "cell_type": "code",
   "execution_count": null,
   "id": "02a15d10-1e75-45f7-a88c-1c3d3afc4e40",
   "metadata": {},
   "outputs": [],
   "source": []
  }
 ],
 "metadata": {
  "kernelspec": {
   "display_name": "Python [conda env:base] *",
   "language": "python",
   "name": "conda-base-py"
  },
  "language_info": {
   "codemirror_mode": {
    "name": "ipython",
    "version": 3
   },
   "file_extension": ".py",
   "mimetype": "text/x-python",
   "name": "python",
   "nbconvert_exporter": "python",
   "pygments_lexer": "ipython3",
   "version": "3.12.7"
  }
 },
 "nbformat": 4,
 "nbformat_minor": 5
}
