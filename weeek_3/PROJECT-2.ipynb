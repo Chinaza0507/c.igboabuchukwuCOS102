{
 "cells": [
  {
   "cell_type": "code",
   "execution_count": 1,
   "id": "14a4ceae-b886-41f7-af23-0ab3fe5966d6",
   "metadata": {},
   "outputs": [
    {
     "name": "stdout",
     "output_type": "stream",
     "text": [
      "Welcome to Izifin Technology,We are here to help you calculate your ATR with just few informations\n"
     ]
    },
    {
     "name": "stdin",
     "output_type": "stream",
     "text": [
      "Enter your years of experiience please: 19\n",
      "Enter your age please: 7\n"
     ]
    },
    {
     "name": "stdout",
     "output_type": "stream",
     "text": [
      "staff with 19 years of experience and is 7 years of age has N550000 Annual tax revenue\n"
     ]
    }
   ],
   "source": [
    "print(\"Welcome to Izifin Technology,We are here to help you calculate your ATR with just few informations\")\n",
    "years_of_experience = int(input(\"Enter your years of experiience please:\"))\n",
    "age = int(input(\"Enter your age please:\"))\n",
    "\n",
    "if  years_of_experience > 25 and age >= 55:\n",
    "     Annual_tax_revenue = 5600000\n",
    "elif years_of_experience > 20 and age >= 45:\n",
    "    Annual_tax_revenue = 4480000\n",
    "\n",
    "elif years_of_experience >10 and age >=35:\n",
    "    Annual_tax_revenue = 1500000\n",
    "else: \n",
    "     Annual_tax_revenue = 550000\n",
    "print(f\"staff with {years_of_experience} years of experience and is {age} years of age has N{Annual_tax_revenue} Annual tax revenue\")"
   ]
  },
  {
   "cell_type": "code",
   "execution_count": null,
   "id": "1534c1a8-be24-445d-9a34-d9c46f7e73ba",
   "metadata": {},
   "outputs": [],
   "source": []
  }
 ],
 "metadata": {
  "kernelspec": {
   "display_name": "Python [conda env:base] *",
   "language": "python",
   "name": "conda-base-py"
  },
  "language_info": {
   "codemirror_mode": {
    "name": "ipython",
    "version": 3
   },
   "file_extension": ".py",
   "mimetype": "text/x-python",
   "name": "python",
   "nbconvert_exporter": "python",
   "pygments_lexer": "ipython3",
   "version": "3.12.7"
  }
 },
 "nbformat": 4,
 "nbformat_minor": 5
}
