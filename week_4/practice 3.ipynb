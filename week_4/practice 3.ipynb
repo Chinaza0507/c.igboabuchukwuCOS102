{
 "cells": [
  {
   "cell_type": "code",
   "execution_count": 1,
   "id": "a9a50033-c3e5-436c-8514-3470d5991721",
   "metadata": {},
   "outputs": [
    {
     "name": "stdout",
     "output_type": "stream",
     "text": [
      "Values inside the function:  [1, 2, 3, 4]\n",
      "Values outside the function:  [12, 20, 30]\n"
     ]
    }
   ],
   "source": [
    "def changeme(mylist):\n",
    "    #this changes a passed lisy=t\n",
    "    mylist = [1,2,3,4];\n",
    "    print(\"Values inside the function: \",mylist)\n",
    "    return\n",
    "mylist = [12,20,30];\n",
    "changeme(mylist);\n",
    "print(\"Values outside the function: \",mylist)\n"
   ]
  },
  {
   "cell_type": "code",
   "execution_count": null,
   "id": "16370441-f12a-47b8-b4f7-4fadfd93db43",
   "metadata": {},
   "outputs": [],
   "source": []
  }
 ],
 "metadata": {
  "kernelspec": {
   "display_name": "Python [conda env:base] *",
   "language": "python",
   "name": "conda-base-py"
  },
  "language_info": {
   "codemirror_mode": {
    "name": "ipython",
    "version": 3
   },
   "file_extension": ".py",
   "mimetype": "text/x-python",
   "name": "python",
   "nbconvert_exporter": "python",
   "pygments_lexer": "ipython3",
   "version": "3.12.7"
  }
 },
 "nbformat": 4,
 "nbformat_minor": 5
}
