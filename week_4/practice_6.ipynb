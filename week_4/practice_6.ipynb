{
 "cells": [
  {
   "cell_type": "code",
   "execution_count": 21,
   "id": "84779823-95ed-4aee-941f-b37fe62ab94f",
   "metadata": {},
   "outputs": [],
   "source": [
    "def printinfo(name, age):\n",
    "    #test function\n",
    "    print(\"Name: \", name);\n",
    "    print(\"Age: \", age)  ;\n",
    "    return;\n",
    "    printinfo(age=50, name=\"miki\");\n",
    "    "
   ]
  },
  {
   "cell_type": "code",
   "execution_count": null,
   "id": "fec657f5-d6df-458c-9e31-96c6e90b99b1",
   "metadata": {},
   "outputs": [],
   "source": []
  },
  {
   "cell_type": "code",
   "execution_count": null,
   "id": "b8ef03e0-7ccc-4ca5-93e5-7855b551f0a8",
   "metadata": {},
   "outputs": [],
   "source": []
  },
  {
   "cell_type": "code",
   "execution_count": null,
   "id": "046f9dc3-23f9-47f7-bbe5-d3fe5fb2db51",
   "metadata": {},
   "outputs": [],
   "source": []
  },
  {
   "cell_type": "code",
   "execution_count": null,
   "id": "44c05445-399c-41ed-ad1c-bcfc185c493f",
   "metadata": {},
   "outputs": [],
   "source": []
  },
  {
   "cell_type": "code",
   "execution_count": null,
   "id": "bee03d12-bbd4-4588-8bc7-7f00bdd8e426",
   "metadata": {},
   "outputs": [],
   "source": []
  }
 ],
 "metadata": {
  "kernelspec": {
   "display_name": "Python [conda env:base] *",
   "language": "python",
   "name": "conda-base-py"
  },
  "language_info": {
   "codemirror_mode": {
    "name": "ipython",
    "version": 3
   },
   "file_extension": ".py",
   "mimetype": "text/x-python",
   "name": "python",
   "nbconvert_exporter": "python",
   "pygments_lexer": "ipython3",
   "version": "3.12.7"
  }
 },
 "nbformat": 4,
 "nbformat_minor": 5
}
