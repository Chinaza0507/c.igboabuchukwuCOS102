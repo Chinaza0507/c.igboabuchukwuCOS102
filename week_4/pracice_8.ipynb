{
 "cells": [
  {
   "cell_type": "code",
   "execution_count": 3,
   "id": "789a1783-8e84-4fad-b6c5-270505385ac1",
   "metadata": {},
   "outputs": [
    {
     "name": "stdout",
     "output_type": "stream",
     "text": [
      "Inside the function local total :  30\n",
      "Outside the function global total:  50\n"
     ]
    }
   ],
   "source": [
    "total = 50;\n",
    "def sum(arg1,arg2):\n",
    "    total = arg1 +  arg2;\n",
    "    print(\"Inside the function local total : \",total)\n",
    "    return total;\n",
    "sum(10,20);\n",
    "print(\"Outside the function global total: \",total)"
   ]
  },
  {
   "cell_type": "code",
   "execution_count": null,
   "id": "6bb02c98-7fe1-468e-8eeb-1b3d849ea439",
   "metadata": {},
   "outputs": [],
   "source": []
  }
 ],
 "metadata": {
  "kernelspec": {
   "display_name": "Python [conda env:base] *",
   "language": "python",
   "name": "conda-base-py"
  },
  "language_info": {
   "codemirror_mode": {
    "name": "ipython",
    "version": 3
   },
   "file_extension": ".py",
   "mimetype": "text/x-python",
   "name": "python",
   "nbconvert_exporter": "python",
   "pygments_lexer": "ipython3",
   "version": "3.12.7"
  }
 },
 "nbformat": 4,
 "nbformat_minor": 5
}
