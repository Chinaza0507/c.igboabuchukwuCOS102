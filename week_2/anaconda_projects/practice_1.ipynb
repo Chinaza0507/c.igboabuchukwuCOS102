{
 "cells": [
  {
   "cell_type": "code",
   "execution_count": 1,
   "id": "85d32334-3345-4be5-a305-696f8c8f3af9",
   "metadata": {},
   "outputs": [
    {
     "name": "stdin",
     "output_type": "stream",
     "text": [
      "Enter your state of origin: lagos\n"
     ]
    },
    {
     "name": "stdout",
     "output_type": "stream",
     "text": [
      "Your state of origin is: lagos\n",
      "The first character is: l\n",
      "The characters starting from the 3rd to 5th are: gos\n",
      "The string starting from  3rd character is : gos\n",
      "State of origin two times lagoslagos\n"
     ]
    }
   ],
   "source": [
    "str = input(\"Enter your state of origin:\")\n",
    "\n",
    "print(\"Your state of origin is:\",str)\n",
    "print(\"The first character is:\",str[0])\n",
    "print(\"The characters starting from the 3rd to 5th are:\" , str[2:5])\n",
    "print (\"The string starting from  3rd character is :\", str[2:])\n",
    "print(\"State of origin two times\", str * 2)"
   ]
  },
  {
   "cell_type": "markdown",
   "id": "bcf5f943-9c11-4351-b5f9-5c5a48152b58",
   "metadata": {},
   "source": []
  },
  {
   "cell_type": "code",
   "execution_count": null,
   "id": "fa05221f-56b4-40b6-a14a-4415e4d566a8",
   "metadata": {},
   "outputs": [],
   "source": []
  },
  {
   "cell_type": "code",
   "execution_count": null,
   "id": "b4fb9e33-b79b-4ca3-9be0-f338fa6f81be",
   "metadata": {},
   "outputs": [],
   "source": []
  },
  {
   "cell_type": "code",
   "execution_count": null,
   "id": "98b0b995-397c-4749-9f90-a085947eb49a",
   "metadata": {},
   "outputs": [],
   "source": []
  },
  {
   "cell_type": "code",
   "execution_count": null,
   "id": "1f0d04b2-ae87-4ce2-9e05-853e2edb3fd8",
   "metadata": {},
   "outputs": [],
   "source": []
  },
  {
   "cell_type": "code",
   "execution_count": null,
   "id": "2b0f2baf-db68-448b-90ca-058c28cb5097",
   "metadata": {},
   "outputs": [],
   "source": []
  },
  {
   "cell_type": "code",
   "execution_count": null,
   "id": "844dc500-9136-41c6-8505-ff1bf3a36304",
   "metadata": {},
   "outputs": [],
   "source": []
  },
  {
   "cell_type": "code",
   "execution_count": null,
   "id": "6ce13628-3629-45da-81ac-477b8ac8f405",
   "metadata": {},
   "outputs": [],
   "source": []
  },
  {
   "cell_type": "code",
   "execution_count": null,
   "id": "87569232-bc63-47b0-bbf6-c12b89ae45ae",
   "metadata": {},
   "outputs": [],
   "source": []
  },
  {
   "cell_type": "code",
   "execution_count": null,
   "id": "1c3eda29-ae59-4c17-a606-81ff2be10c10",
   "metadata": {},
   "outputs": [],
   "source": []
  },
  {
   "cell_type": "code",
   "execution_count": null,
   "id": "0ceecf4c-41a3-4152-8080-fd2aa2bfd21e",
   "metadata": {},
   "outputs": [],
   "source": []
  },
  {
   "cell_type": "code",
   "execution_count": null,
   "id": "2a429be6-23d6-4f02-b700-0408cd87b758",
   "metadata": {},
   "outputs": [],
   "source": []
  },
  {
   "cell_type": "code",
   "execution_count": null,
   "id": "c2bdf428-e81b-4a99-99ca-216a3947d8ee",
   "metadata": {},
   "outputs": [],
   "source": []
  },
  {
   "cell_type": "code",
   "execution_count": null,
   "id": "2b2190d1-53d6-42e1-b0d1-a937f89349d8",
   "metadata": {},
   "outputs": [],
   "source": []
  },
  {
   "cell_type": "code",
   "execution_count": null,
   "id": "042d458e-7f0d-4111-948e-92c8ffbf4f53",
   "metadata": {},
   "outputs": [],
   "source": []
  },
  {
   "cell_type": "code",
   "execution_count": null,
   "id": "c1fa675b-4d27-483e-a0bc-81dd93b43fbd",
   "metadata": {},
   "outputs": [],
   "source": []
  },
  {
   "cell_type": "code",
   "execution_count": null,
   "id": "5dba0028-5814-43d9-b1e0-5d9c33e942ea",
   "metadata": {},
   "outputs": [],
   "source": []
  },
  {
   "cell_type": "code",
   "execution_count": null,
   "id": "bdf6a9b9-a5cc-4ed6-96db-089885fa28fb",
   "metadata": {},
   "outputs": [],
   "source": []
  },
  {
   "cell_type": "code",
   "execution_count": null,
   "id": "1af4bf04-8ce1-411d-bf51-d2a0b1a540ab",
   "metadata": {},
   "outputs": [],
   "source": []
  },
  {
   "cell_type": "code",
   "execution_count": null,
   "id": "24d11e90-0a18-4c2f-8d50-687ebc9bd2f3",
   "metadata": {},
   "outputs": [],
   "source": []
  },
  {
   "cell_type": "code",
   "execution_count": null,
   "id": "b3cf9723-4aca-4c4f-bac5-493b1849b7d8",
   "metadata": {},
   "outputs": [],
   "source": []
  },
  {
   "cell_type": "code",
   "execution_count": null,
   "id": "93a5fd08-6bcf-443d-bb89-90d51c0c9a3e",
   "metadata": {},
   "outputs": [],
   "source": []
  },
  {
   "cell_type": "code",
   "execution_count": null,
   "id": "729d2832-311a-4ef1-a4f2-1c9e900f2de6",
   "metadata": {},
   "outputs": [],
   "source": []
  },
  {
   "cell_type": "code",
   "execution_count": null,
   "id": "30b9cc0a-0e25-421c-8df2-a30c32dfb402",
   "metadata": {},
   "outputs": [],
   "source": []
  }
 ],
 "metadata": {
  "kernelspec": {
   "display_name": "Python [conda env:base] *",
   "language": "python",
   "name": "conda-base-py"
  },
  "language_info": {
   "codemirror_mode": {
    "name": "ipython",
    "version": 3
   },
   "file_extension": ".py",
   "mimetype": "text/x-python",
   "name": "python",
   "nbconvert_exporter": "python",
   "pygments_lexer": "ipython3",
   "version": "3.12.7"
  }
 },
 "nbformat": 4,
 "nbformat_minor": 5
}
