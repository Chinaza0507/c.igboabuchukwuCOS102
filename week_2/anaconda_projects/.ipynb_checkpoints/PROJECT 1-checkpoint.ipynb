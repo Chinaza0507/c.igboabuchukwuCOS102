{
 "cells": [
  {
   "cell_type": "code",
   "execution_count": null,
   "id": "9bc0d6af-2647-4a98-8a21-38496aa5fdbf",
   "metadata": {},
   "outputs": [],
   "source": [
    "\n"
   ]
  },
  {
   "cell_type": "code",
   "execution_count": null,
   "id": "fc9a35fa-e4f6-4cbd-a1e7-f9ac21e77fa2",
   "metadata": {},
   "outputs": [],
   "source": [
    "#pseudocode for store checkout\n",
    "start\n",
    "set total_price to 0\n",
    "Display message:\"scan your purchases\"\n",
    "WHILE more items to scan\n",
    "      scan each item\n",
    "      Add item price to total_price \n",
    "      Ask \"Are done purchasing\":YES/NO?\n",
    "END WHILE\n",
    "show total_price to the user\n",
    "Ask user for payment method (cash/card/transfer)\n",
    "process payment6\n",
    "print receipt\n",
    "Display message:\"Thanks for shopping ngwanu byee!\"\n",
    "\n",
    "\n",
    "\n"
   ]
  },
  {
   "cell_type": "code",
   "execution_count": null,
   "id": "a38c0166-f1d9-45a4-96a4-c5bb3d914a45",
   "metadata": {},
   "outputs": [],
   "source": [
    "Algorithm to swap Ages\n",
    "#pseudocode\n",
    "start\n",
    "Input name1,age1\n",
    "Input name2,age2\n",
    "swap age1 and age2\n",
    "Display name1 with new age\n",
    "Display name2 with new age\n",
    "\n",
    "#CODE TO SOLVE THE PROBLEM\n"
   ]
  }
 ],
 "metadata": {
  "kernelspec": {
   "display_name": "Python [conda env:base] *",
   "language": "python",
   "name": "conda-base-py"
  },
  "language_info": {
   "codemirror_mode": {
    "name": "ipython",
    "version": 3
   },
   "file_extension": ".py",
   "mimetype": "text/x-python",
   "name": "python",
   "nbconvert_exporter": "python",
   "pygments_lexer": "ipython3",
   "version": "3.12.7"
  }
 },
 "nbformat": 4,
 "nbformat_minor": 5
}
