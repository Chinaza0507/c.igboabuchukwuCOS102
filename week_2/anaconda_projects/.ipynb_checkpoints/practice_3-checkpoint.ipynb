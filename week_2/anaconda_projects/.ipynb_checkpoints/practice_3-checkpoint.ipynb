{
 "cells": [
  {
   "cell_type": "code",
   "execution_count": 14,
   "id": "ac1231da-99cc-4ca8-a7ad-416e9f8776fd",
   "metadata": {},
   "outputs": [
    {
     "name": "stdout",
     "output_type": "stream",
     "text": [
      "['Anaconda ', 786, 2.23, 'Jupyter', 70.2]\n",
      "Anaconda \n",
      "[786, 2.23]\n",
      "[2.23, 'Jupyter', 70.2]\n",
      "[321, 'Python', 321, 'Python']\n",
      "['Anaconda ', 786, 2.23, 'Jupyter', 70.2, 321, 'Python']\n"
     ]
    }
   ],
   "source": [
    "list = [ 'Anaconda ',786 , 2.23, 'Jupyter', 70.2 ]\n",
    "shortlist = [321 , 'Python']\n",
    "\n",
    "print(list)       #Prints complete list\n",
    "print(list[0])    #prints first element of the list \n",
    "print(list[1:3])  #prints elements starting from 2nd till 3rd\n",
    "print(list[2:])    #Prints elements starting from 3rd element\n",
    "print(shortlist * 2)  #prints list two times\n",
    "print(list + shortlist) #prints concatenated lists"
   ]
  },
  {
   "cell_type": "code",
   "execution_count": null,
   "id": "a915764e-56c3-4ece-a6ad-b0aedc0f1c95",
   "metadata": {},
   "outputs": [],
   "source": []
  },
  {
   "cell_type": "code",
   "execution_count": null,
   "id": "082494e7-e30c-4802-b7d0-4c9f1552601d",
   "metadata": {},
   "outputs": [],
   "source": []
  },
  {
   "cell_type": "code",
   "execution_count": null,
   "id": "747c0eb6-e03e-4bd0-95c5-dbf2d7137f29",
   "metadata": {},
   "outputs": [],
   "source": []
  }
 ],
 "metadata": {
  "kernelspec": {
   "display_name": "Python [conda env:base] *",
   "language": "python",
   "name": "conda-base-py"
  },
  "language_info": {
   "codemirror_mode": {
    "name": "ipython",
    "version": 3
   },
   "file_extension": ".py",
   "mimetype": "text/x-python",
   "name": "python",
   "nbconvert_exporter": "python",
   "pygments_lexer": "ipython3",
   "version": "3.12.7"
  }
 },
 "nbformat": 4,
 "nbformat_minor": 5
}
