{
 "cells": [
  {
   "cell_type": "code",
   "execution_count": 1,
   "id": "12d6db6a-059e-4924-8943-5858a0e91804",
   "metadata": {},
   "outputs": [
    {
     "name": "stdin",
     "output_type": "stream",
     "text": [
      "Enter mass in kilogram:  90\n"
     ]
    },
    {
     "name": "stdout",
     "output_type": "stream",
     "text": [
      "The energy eqivalent to 90.0 kg of mass is 8.088796608631358e+18 joules\n"
     ]
    }
   ],
   "source": [
    "# Input from user\n",
    "m = float(input(\"Enter mass in kilogram: \"))\n",
    "\n",
    "#constant value for the the speed of the light in m/s\n",
    "c = 299792458\n",
    "\n",
    "#calculating energy using Einstein's equation\n",
    "energy = m * c ** 2\n",
    "\n",
    "#Displaying the result\n",
    "print(f\"The energy eqivalent to {m} kg of mass is {energy} joules\")"
   ]
  },
  {
   "cell_type": "code",
   "execution_count": null,
   "id": "e5cc8a01-942c-40d4-b58b-2de41c3e723a",
   "metadata": {},
   "outputs": [],
   "source": []
  }
 ],
 "metadata": {
  "kernelspec": {
   "display_name": "Python [conda env:base] *",
   "language": "python",
   "name": "conda-base-py"
  },
  "language_info": {
   "codemirror_mode": {
    "name": "ipython",
    "version": 3
   },
   "file_extension": ".py",
   "mimetype": "text/x-python",
   "name": "python",
   "nbconvert_exporter": "python",
   "pygments_lexer": "ipython3",
   "version": "3.12.7"
  }
 },
 "nbformat": 4,
 "nbformat_minor": 5
}
