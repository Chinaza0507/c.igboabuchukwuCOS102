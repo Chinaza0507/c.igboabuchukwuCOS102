{
 "cells": [
  {
   "cell_type": "code",
   "execution_count": null,
   "id": "9bc0d6af-2647-4a98-8a21-38496aa5fdbf",
   "metadata": {},
   "outputs": [],
   "source": [
    "\n"
   ]
  },
  {
   "cell_type": "code",
   "execution_count": null,
   "id": "fc9a35fa-e4f6-4cbd-a1e7-f9ac21e77fa2",
   "metadata": {},
   "outputs": [],
   "source": [
    "#pseudocode for store checkout\n",
    "start\n",
    "set total_price to 0\n",
    "Display message:\"scan your purchases\"\n",
    "WHILE more items to scan\n",
    "      scan each item\n",
    "      Add item price to total_price \n",
    "      Ask \"Are done purchasing\":YES/NO?\n",
    "END WHILE\n",
    "show total_price to the user\n",
    "Ask user for payment method (cash/card/transfer)\n",
    "process payment6\n",
    "print receipt\n",
    "Display message:\"Thanks for shopping ngwanu byee!\"\n",
    "\n",
    "\n",
    "\n"
   ]
  },
  {
   "cell_type": "code",
   "execution_count": 8,
   "id": "a38c0166-f1d9-45a4-96a4-c5bb3d914a45",
   "metadata": {},
   "outputs": [
    {
     "ename": "SyntaxError",
     "evalue": "invalid syntax (2829530212.py, line 3)",
     "output_type": "error",
     "traceback": [
      "\u001b[0;36m  Cell \u001b[0;32mIn[8], line 3\u001b[0;36m\u001b[0m\n\u001b[0;31m    Input name1,age1\u001b[0m\n\u001b[0m          ^\u001b[0m\n\u001b[0;31mSyntaxError\u001b[0m\u001b[0;31m:\u001b[0m invalid syntax\n"
     ]
    }
   ],
   "source": [
    "\n",
    "#pseudocode to swap age\n",
    "start\n",
    "Input name1,age1\n",
    "Input name2,age2\n",
    "swap age1 and age2\n",
    "Display name1 with new age\n",
    "Display name2 with new age\n",
    "\n"
   ]
  },
  {
   "cell_type": "code",
   "execution_count": 21,
   "id": "3a43edbd-50ec-441d-8d97-5c420dc2f2e2",
   "metadata": {},
   "outputs": [
    {
     "name": "stdin",
     "output_type": "stream",
     "text": [
      "Enter the name of your choice: chinny\n",
      "Enter age1: 13\n",
      "Enter name2 of your choice: naza\n",
      "Enter the name of your choice: 24\n"
     ]
    },
    {
     "name": "stdout",
     "output_type": "stream",
     "text": [
      "chinny is now 24 years old\n",
      "naza is now 13 years old\n"
     ]
    }
   ],
   "source": [
    "#CODE TO SOLVE THE PROBLEM\n",
    "name1 = (input(\"Enter the name of your choice:\"))\n",
    "age1 = int(input(\"Enter age1:\"))\n",
    "name2 = (input(\"Enter name2 of your choice:\"))\n",
    "age2 = int(input(\"Enter the name of your choice:\"))\n",
    "\n",
    "#swap ages\n",
    "age1, age2 = age2 , age1\n",
    "print(name1, \"is now\", age1, \"years old\")\n",
    "print(name2, \"is now\", age2, \"years old\")\n"
   ]
  },
  {
   "cell_type": "code",
   "execution_count": null,
   "id": "55360aec-4066-4f71-bdaa-d46591ff2b76",
   "metadata": {},
   "outputs": [],
   "source": []
  }
 ],
 "metadata": {
  "kernelspec": {
   "display_name": "Python [conda env:base] *",
   "language": "python",
   "name": "conda-base-py"
  },
  "language_info": {
   "codemirror_mode": {
    "name": "ipython",
    "version": 3
   },
   "file_extension": ".py",
   "mimetype": "text/x-python",
   "name": "python",
   "nbconvert_exporter": "python",
   "pygments_lexer": "ipython3",
   "version": "3.12.7"
  }
 },
 "nbformat": 4,
 "nbformat_minor": 5
}
