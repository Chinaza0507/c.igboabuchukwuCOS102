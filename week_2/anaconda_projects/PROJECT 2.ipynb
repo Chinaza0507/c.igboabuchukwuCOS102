{
 "cells": [
  {
   "cell_type": "code",
   "execution_count": 8,
   "id": "8345ffab-58ed-489e-baa0-c87c16b83c2a",
   "metadata": {},
   "outputs": [
    {
     "name": "stdin",
     "output_type": "stream",
     "text": [
      "Choose an equation type:\n",
      "1. Cubic equation\n",
      "2. Quartic equation\n",
      "3. Quadratic equation\n",
      " 1\n"
     ]
    },
    {
     "name": "stdout",
     "output_type": "stream",
     "text": [
      "The root of a cubic equation is in the form ax^3 + bx^2 + cx + d = 0\n"
     ]
    },
    {
     "name": "stdin",
     "output_type": "stream",
     "text": [
      "Enter a:  9\n",
      "Enter b:  0\n",
      "Enter c:  8\n",
      "Enter d:  8\n"
     ]
    },
    {
     "name": "stdout",
     "output_type": "stream",
     "text": [
      "The root of the equation is: (0.7907604410896716+0.8414459329873795j)\n"
     ]
    }
   ],
   "source": [
    "import math\n",
    "\n",
    "def solve_cubic(a, b, c, d):\n",
    "    b /= a\n",
    "    c /= a\n",
    "    d /= a\n",
    "\n",
    "    p = (3 * c - b**2) / 3\n",
    "    q = (2 * b**3 - 9 * b * c + 27 * d) / 27\n",
    "    delta = (q**2 / 4) + (p**3 / 27)\n",
    "\n",
    "    if delta > 0:\n",
    "        u = (-q / 2 + math.sqrt(delta))**(1/3)\n",
    "        v = (-q / 2 - math.sqrt(delta))**(1/3)\n",
    "        y1 = u + v\n",
    "    else:\n",
    "        r = math.sqrt(-p**3 / 27)\n",
    "        theta = math.acos(-q / (2 * r))\n",
    "        y1 = 2 * (-p / 3)**0.5 * math.cos(theta / 3)\n",
    "\n",
    "    x1 = y1 - b / 3\n",
    "    return x1\n",
    "\n",
    "choices = int(input('''Choose an equation type:\n",
    "1. Cubic equation\n",
    "2. Quartic equation\n",
    "3. Quadratic equation\n",
    "'''))\n",
    "\n",
    "if choices == 1:\n",
    "    print(\"The root of a cubic equation is in the form ax^3 + bx^2 + cx + d = 0\")\n",
    "    a = float(input(\"Enter a: \"))\n",
    "    b = float(input(\"Enter b: \"))\n",
    "    c = float(input(\"Enter c: \"))\n",
    "    d = float(input(\"Enter d: \"))\n",
    "    roots = solve_cubic(a, b, c, d)\n",
    "    print(\"The root of the equation is:\", roots)\n",
    "\n",
    "elif choices == 2:\n",
    "    print(\"The root of a quartic equation is in the form ax^4 + bx^3 + cx^2 + dx + e = 0\")\n",
    "    a = float(input(\"Enter a: \"))\n",
    "    b = float(input(\"Enter b: \"))\n",
    "    c = float(input(\"Enter c: \"))\n",
    "    d = float(input(\"Enter d: \"))\n",
    "    e = float(input(\"Enter e: \"))\n",
    "\n",
    "    b /= a\n",
    "    c /= a\n",
    "    d /= a\n",
    "    e /= a\n",
    "\n",
    "    p = (c - (3 * b**2) / 8)\n",
    "    q = (d - (b * c) / 2 + (b**3) / 8)\n",
    "    r = (e - (b * d) / 4 + (b**2 * c) / 16 - (3 * b**4) / 256)\n",
    "\n",
    "    y = solve_cubic(1, 2 * p, p**2 - 4 * r, -q**2)\n",
    "\n",
    "    R = math.sqrt(p + 2 * y)\n",
    "    D1 = math.sqrt(y**2 - 4 * r)\n",
    "    D2 = math.sqrt(2 * y - p - (2 * q / R))\n",
    "\n",
    "    x1, x2 = (R - D1) / 2, (R + D1) / 2\n",
    "    x3, x4 = (R - D2) / 2, (R + D2) / 2\n",
    "\n",
    "    shift = b / 4\n",
    "    root1, root2, root3, root4 = x1 - shift, x2 - shift, x3 - shift, x4 - shift\n",
    "\n",
    "    print(\"The roots of the equation are:\", root1, root2, root3, root4)\n",
    "\n",
    "elif choices == 3:\n",
    "    print(\"The root of a quadratic equation is in the form ax^2 + bx + c = 0\")\n",
    "    a = float(input(\"Enter a: \"))\n",
    "    b = float(input(\"Enter b: \"))\n",
    "    c = float(input(\"Enter c: \"))\n",
    "\n",
    "    discriminant = b**2 - 4 * a * c\n",
    "\n",
    "    if discriminant < 0:\n",
    "        print(\"Equation has no real roots\")\n",
    "    else:\n",
    "        root1 = (-b + math.sqrt(discriminant)) / (2 * a)\n",
    "        root2 = (-b - math.sqrt(discriminant)) / (2 * a)\n",
    "        print(\"The roots of the equation are:\", root1, root2)"
   ]
  },
  {
   "cell_type": "code",
   "execution_count": 9,
   "id": "73e8df55-c5ae-429e-9c92-3e1c9aaf86c4",
   "metadata": {},
   "outputs": [
    {
     "data": {
      "text/plain": [
       "1"
      ]
     },
     "execution_count": 9,
     "metadata": {},
     "output_type": "execute_result"
    }
   ],
   "source": [
    "1\n"
   ]
  },
  {
   "cell_type": "code",
   "execution_count": null,
   "id": "b847f7d2-c514-4add-b2c8-bc56746305d7",
   "metadata": {},
   "outputs": [],
   "source": []
  },
  {
   "cell_type": "code",
   "execution_count": null,
   "id": "86287843-0294-47da-b76d-a523b8fbd773",
   "metadata": {},
   "outputs": [],
   "source": []
  }
 ],
 "metadata": {
  "kernelspec": {
   "display_name": "Python [conda env:base] *",
   "language": "python",
   "name": "conda-base-py"
  },
  "language_info": {
   "codemirror_mode": {
    "name": "ipython",
    "version": 3
   },
   "file_extension": ".py",
   "mimetype": "text/x-python",
   "name": "python",
   "nbconvert_exporter": "python",
   "pygments_lexer": "ipython3",
   "version": "3.12.7"
  }
 },
 "nbformat": 4,
 "nbformat_minor": 5
}
